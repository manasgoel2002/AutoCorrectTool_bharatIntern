{
 "cells": [
  {
   "cell_type": "code",
   "execution_count": 2,
   "id": "338f7599",
   "metadata": {
    "scrolled": true
   },
   "outputs": [
    {
     "name": "stdout",
     "output_type": "stream",
     "text": [
      "Requirement already satisfied: pyspellchecker in /Applications/anaconda3/lib/python3.11/site-packages (0.7.2)\r\n"
     ]
    }
   ],
   "source": [
    "!pip install pyspellchecker\n"
   ]
  },
  {
   "cell_type": "code",
   "execution_count": 1,
   "id": "06efbe24",
   "metadata": {},
   "outputs": [],
   "source": [
    "import tkinter as tk\n",
    "from tkinter import messagebox\n",
    "from spellchecker import SpellChecker\n",
    "\n",
    "def correct_word():\n",
    "    word_to_correct = entry_word.get()\n",
    "    if word_to_correct.strip() == \"\":\n",
    "        messagebox.showinfo(\"Error\", \"Please enter a word.\")\n",
    "    else:\n",
    "        spell = SpellChecker()\n",
    "        method = var_method.get()\n",
    "\n",
    "        if method == \"correction\":\n",
    "            corrected_word = spell.correction(word_to_correct)\n",
    "            messagebox.showinfo(\"Correction\", f\"The corrected word is: {corrected_word}\")\n",
    "        elif method == \"suggestions\":\n",
    "            suggestions = spell.candidates(word_to_correct)\n",
    "            if not suggestions:\n",
    "                messagebox.showinfo(\"Suggestions\", \"No suggestions found.\")\n",
    "            else:\n",
    "                suggestion_str = \"\\n\".join(suggestions)\n",
    "                messagebox.showinfo(\"Suggestions\", f\"Suggested words:\\n{suggestion_str}\")\n",
    "\n",
    "# Create the main application window\n",
    "app = tk.Tk()\n",
    "app.title(\"Word Corrector\")\n",
    "\n",
    "# Create widgets\n",
    "label = tk.Label(app, text=\"Enter a word:\")\n",
    "label.pack()\n",
    "\n",
    "entry_word = tk.Entry(app)\n",
    "entry_word.pack()\n",
    "\n",
    "var_method = tk.StringVar()\n",
    "var_method.set(\"correction\")\n",
    "\n",
    "frame = tk.Frame(app)\n",
    "frame.pack()\n",
    "\n",
    "radio_correction = tk.Radiobutton(frame, text=\"Correct\", variable=var_method, value=\"correction\")\n",
    "radio_correction.pack(side=tk.LEFT)\n",
    "\n",
    "radio_suggestions = tk.Radiobutton(frame, text=\"Suggestions\", variable=var_method, value=\"suggestions\")\n",
    "radio_suggestions.pack(side=tk.LEFT)\n",
    "\n",
    "btn_correct = tk.Button(app, text=\"Process\", command=correct_word)\n",
    "btn_correct.pack()\n",
    "\n",
    "app.mainloop()\n"
   ]
  },
  {
   "cell_type": "code",
   "execution_count": null,
   "id": "11c790b5",
   "metadata": {},
   "outputs": [],
   "source": []
  }
 ],
 "metadata": {
  "kernelspec": {
   "display_name": "Python 3 (ipykernel)",
   "language": "python",
   "name": "python3"
  },
  "language_info": {
   "codemirror_mode": {
    "name": "ipython",
    "version": 3
   },
   "file_extension": ".py",
   "mimetype": "text/x-python",
   "name": "python",
   "nbconvert_exporter": "python",
   "pygments_lexer": "ipython3",
   "version": "3.11.3"
  }
 },
 "nbformat": 4,
 "nbformat_minor": 5
}
